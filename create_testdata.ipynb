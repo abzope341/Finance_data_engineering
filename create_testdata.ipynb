{
  "nbformat": 4,
  "nbformat_minor": 0,
  "metadata": {
    "colab": {
      "provenance": [],
      "authorship_tag": "ABX9TyOFoscBIlHsAvZ4zizIcRak",
      "include_colab_link": true
    },
    "kernelspec": {
      "name": "python3",
      "display_name": "Python 3"
    },
    "language_info": {
      "name": "python"
    }
  },
  "cells": [
    {
      "cell_type": "markdown",
      "metadata": {
        "id": "view-in-github",
        "colab_type": "text"
      },
      "source": [
        "<a href=\"https://colab.research.google.com/github/abzope341/Finance_data_engineering/blob/main/create_testdata.ipynb\" target=\"_parent\"><img src=\"https://colab.research.google.com/assets/colab-badge.svg\" alt=\"Open In Colab\"/></a>"
      ]
    },
    {
      "cell_type": "code",
      "execution_count": 2,
      "metadata": {
        "colab": {
          "base_uri": "https://localhost:8080/"
        },
        "id": "TTuFmBxPV4Uo",
        "outputId": "9b98102b-241a-4842-a35d-3f4b00c806aa"
      },
      "outputs": [
        {
          "output_type": "stream",
          "name": "stdout",
          "text": [
            "Collecting faker\n",
            "  Downloading Faker-19.6.1-py3-none-any.whl (1.7 MB)\n",
            "\u001b[2K     \u001b[90m━━━━━━━━━━━━━━━━━━━━━━━━━━━━━━━━━━━━━━━━\u001b[0m \u001b[32m1.7/1.7 MB\u001b[0m \u001b[31m15.6 MB/s\u001b[0m eta \u001b[36m0:00:00\u001b[0m\n",
            "\u001b[?25hRequirement already satisfied: pandas in /usr/local/lib/python3.10/dist-packages (1.5.3)\n",
            "Requirement already satisfied: python-dateutil>=2.4 in /usr/local/lib/python3.10/dist-packages (from faker) (2.8.2)\n",
            "Requirement already satisfied: pytz>=2020.1 in /usr/local/lib/python3.10/dist-packages (from pandas) (2023.3.post1)\n",
            "Requirement already satisfied: numpy>=1.21.0 in /usr/local/lib/python3.10/dist-packages (from pandas) (1.23.5)\n",
            "Requirement already satisfied: six>=1.5 in /usr/local/lib/python3.10/dist-packages (from python-dateutil>=2.4->faker) (1.16.0)\n",
            "Installing collected packages: faker\n",
            "Successfully installed faker-19.6.1\n"
          ]
        }
      ],
      "source": [
        "pip install faker pandas\n"
      ]
    },
    {
      "cell_type": "code",
      "source": [
        "from faker import Faker\n",
        "import pandas as pd\n",
        "\n",
        "# Initialize the Faker library\n",
        "fake = Faker()\n",
        "\n",
        "# Define the schema of your dataset\n",
        "schema = {\n",
        "    'id': fake.id,\n",
        "    'datetime': fake.date_time,\n",
        "    'amount': fake.amount,\n",
        "    'card_type': fake.card_type,\n",
        "    'merchant_id': fake.merchant_id\n",
        "}\n",
        "\n",
        "# Define the number of records you want to generate\n",
        "num_records = 10000000\n",
        "\n",
        "# Generate the dataset\n",
        "data = {column: [generator() for _ in range(num_records)] for column, generator in schema.items()}\n",
        "\n",
        "# Convert the dataset to a pandas DataFrame\n",
        "df = pd.DataFrame(data)\n",
        "\n",
        "# Save the DataFrame to a CSV file\n",
        "df.to_csv('large_dataset.csv', index=False)\n"
      ],
      "metadata": {
        "id": "__dY5k40V58u"
      },
      "execution_count": null,
      "outputs": []
    },
    {
      "cell_type": "code",
      "source": [
        "from faker import Faker\n",
        "import pandas as pd\n",
        "import random\n",
        "\n",
        "# Initialize the Faker library\n",
        "fake = Faker()\n",
        "\n",
        "# Define the schema of your dataset\n",
        "schema = {\n",
        "    'id': lambda: random.randint(1, 10000),  # Generates a random integer between 1 and 10000\n",
        "    'datetime': fake.date_time,  # Generates a random datetime\n",
        "    'amount': lambda: round(random.uniform(1.0, 1000.0), 2),  # Generates a random float between 1.0 and 1000.0\n",
        "    'card_type': lambda: random.choice(['Visa', 'MasterCard', 'American Express']),  # Randomly selects a card type\n",
        "    'merchant_id': lambda: 'MID' + str(random.randint(10000, 99999))  # Generates a random merchant ID\n",
        "}\n",
        "\n",
        "# Define the number of records you want to generate\n",
        "num_records = 9000000\n",
        "\n",
        "# Generate the dataset\n",
        "data = {column: [generator() for _ in range(num_records)] for column, generator in schema.items()}\n",
        "\n",
        "# Convert the dataset to a pandas DataFrame\n",
        "df = pd.DataFrame(data)\n",
        "\n",
        "# Save the DataFrame to a CSV file\n",
        "df.to_csv('large_dataset2.csv', index=False)\n",
        "df.to_json('large_dataset2.json', orient = 'records', lines = True)\n"
      ],
      "metadata": {
        "id": "t3tZW9kIWBWZ"
      },
      "execution_count": 3,
      "outputs": []
    },
    {
      "cell_type": "code",
      "source": [
        "from faker import Faker\n",
        "import pandas as pd\n",
        "import random\n",
        "\n",
        "# Initialize the Faker library\n",
        "fake = Faker()\n",
        "\n",
        "# Define the schema of your dataset\n",
        "schema = {\n",
        "    'id': lambda: 'MID' + str(random.randint(10000, 99999)),  # Generates a random integer between 1 and 10000\n",
        "    'name': fake.name,\n",
        "    'merchant_category': lambda: random.choice([1,5])  # Generates a random merchant ID\n",
        "}\n",
        "\n",
        "# Define the number of records you want to generate\n",
        "num_records = 900000\n",
        "\n",
        "# Generate the dataset\n",
        "data = {column: [generator() for _ in range(num_records)] for column, generator in schema.items()}\n",
        "\n",
        "# Convert the dataset to a pandas DataFrame\n",
        "df = pd.DataFrame(data)\n",
        "\n",
        "# Save the DataFrame to a CSV file\n",
        "df.to_csv('merchant_large.csv', index=False)"
      ],
      "metadata": {
        "id": "LKep-n4QXx0S"
      },
      "execution_count": 6,
      "outputs": []
    },
    {
      "cell_type": "code",
      "source": [
        "from faker import Faker\n",
        "import pandas as pd\n",
        "import random\n",
        "\n",
        "# Initialize the Faker library\n",
        "fake = Faker()\n",
        "\n",
        "# Define the schema of your dataset\n",
        "schema = {\n",
        "    'id': lambda: random.randint(1, 10000),  # Generates a random integer between 1 and 10000\n",
        "    'name': fake.name\n",
        "}\n",
        "\n",
        "# Define the number of records you want to generate\n",
        "num_records = 10000\n",
        "\n",
        "# Generate the dataset\n",
        "data = {column: [generator() for _ in range(num_records)] for column, generator in schema.items()}\n",
        "\n",
        "# Convert the dataset to a pandas DataFrame\n",
        "df = pd.DataFrame(data)\n",
        "\n",
        "# Save the DataFrame to a CSV file\n",
        "df.to_csv('card_holder_large.csv', index=False)"
      ],
      "metadata": {
        "id": "Uxtl2_fntDGu"
      },
      "execution_count": 8,
      "outputs": []
    },
    {
      "cell_type": "code",
      "source": [
        "from faker import Faker\n",
        "import pandas as pd\n",
        "import random\n",
        "\n",
        "# Initialize the Faker library\n",
        "fake = Faker()\n",
        "\n",
        "# Define the schema of your dataset\n",
        "schema = {\n",
        "    'id_card_holder': lambda: random.randint(1, 10000),  # Generates a random integer between 1 and 10000\n",
        "    'card_number': fake.credit_card_number\n",
        "}\n",
        "# Define the number of records you want to generate\n",
        "num_records = 10000\n",
        "\n",
        "# Generate the dataset\n",
        "data = {column: [generator() for _ in range(num_records)] for column, generator in schema.items()}\n",
        "\n",
        "# Convert the dataset to a pandas DataFrame\n",
        "df = pd.DataFrame(data)\n",
        "\n",
        "# Save the DataFrame to a CSV file\n",
        "df.to_csv('credit_card_large.csv', index=False)"
      ],
      "metadata": {
        "id": "lREtBqFuwz7Y"
      },
      "execution_count": 10,
      "outputs": []
    },
    {
      "cell_type": "code",
      "source": [
        "from faker import Faker\n",
        "import pandas as pd\n",
        "import random\n",
        "\n",
        "# Initialize the Faker library\n",
        "fake = Faker()\n",
        "\n",
        "# Define the schema of your dataset\n",
        "schema = {\n",
        "    'name_category': lambda: random.choice(['Restaurant', 'Bar', 'Coffee','pub','foodtruck']),\n",
        "    'merchant_category': lambda: random.choice([1,5])\n",
        "}\n",
        "\n",
        "# Define the number of records you want to generate\n",
        "num_records = 5\n",
        "\n",
        "# Generate the dataset\n",
        "data = {column: [generator() for _ in range(num_records)] for column, generator in schema.items()}\n",
        "\n",
        "# Convert the dataset to a pandas DataFrame\n",
        "df = pd.DataFrame(data)\n",
        "\n",
        "# Save the DataFrame to a CSV file\n",
        "df.to_csv('merchant_category_large.csv', index=False)"
      ],
      "metadata": {
        "id": "QQ8aZejpx4QE"
      },
      "execution_count": 11,
      "outputs": []
    },
    {
      "cell_type": "code",
      "source": [],
      "metadata": {
        "id": "Rz8rB1fx3mfD"
      },
      "execution_count": null,
      "outputs": []
    }
  ]
}