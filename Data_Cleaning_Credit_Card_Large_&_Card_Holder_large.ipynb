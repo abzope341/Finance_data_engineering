{
 "cells": [
  {
   "cell_type": "code",
   "execution_count": 0,
   "metadata": {
    "application/vnd.databricks.v1+cell": {
     "cellMetadata": {
      "byteLimit": 2048000,
      "rowLimit": 10000
     },
     "inputWidgets": {},
     "nuid": "89fa5c9e-3ae8-4ae2-ae40-a6c2ffe315a0",
     "showTitle": false,
     "title": ""
    }
   },
   "outputs": [
    {
     "output_type": "display_data",
     "data": {
      "text/html": [
       "<style scoped>\n",
       "  .table-result-container {\n",
       "    max-height: 300px;\n",
       "    overflow: auto;\n",
       "  }\n",
       "  table, th, td {\n",
       "    border: 1px solid black;\n",
       "    border-collapse: collapse;\n",
       "  }\n",
       "  th, td {\n",
       "    padding: 5px;\n",
       "  }\n",
       "  th {\n",
       "    text-align: left;\n",
       "  }\n",
       "</style><div class='table-result-container'><table class='table-result'><thead style='background-color: white'><tr><th>path</th><th>name</th><th>size</th><th>modificationTime</th></tr></thead><tbody><tr><td>dbfs:/FileStore/credit_card_large-2.csv</td><td>credit_card_large-2.csv</td><td>177863</td><td>1695551137000</td></tr></tbody></table></div>"
      ]
     },
     "metadata": {
      "application/vnd.databricks.v1+output": {
       "addedWidgets": {},
       "aggData": [],
       "aggError": "",
       "aggOverflow": false,
       "aggSchema": [],
       "aggSeriesLimitReached": false,
       "aggType": "",
       "arguments": {},
       "columnCustomDisplayInfos": {},
       "data": [
        [
         "dbfs:/FileStore/credit_card_large-2.csv",
         "credit_card_large-2.csv",
         177863,
         1695551137000
        ]
       ],
       "datasetInfos": [],
       "dbfsResultPath": null,
       "isJsonSchema": true,
       "metadata": {
        "isDbfsCommandResult": false
       },
       "overflow": false,
       "plotOptions": {
        "customPlotOptions": {},
        "displayType": "table",
        "pivotAggregation": null,
        "pivotColumns": null,
        "xColumns": null,
        "yColumns": null
       },
       "removedWidgets": [],
       "schema": [
        {
         "metadata": "{}",
         "name": "path",
         "type": "\"string\""
        },
        {
         "metadata": "{}",
         "name": "name",
         "type": "\"string\""
        },
        {
         "metadata": "{}",
         "name": "size",
         "type": "\"long\""
        },
        {
         "metadata": "{}",
         "name": "modificationTime",
         "type": "\"long\""
        }
       ],
       "type": "table"
      }
     },
     "output_type": "display_data"
    }
   ],
   "source": [
    "%fs\n",
    "ls /FileStore/credit_card_large-2.csv\n",
    "\n"
   ]
  },
  {
   "cell_type": "code",
   "execution_count": 0,
   "metadata": {
    "application/vnd.databricks.v1+cell": {
     "cellMetadata": {
      "byteLimit": 2048000,
      "implicitDf": true,
      "rowLimit": 10000
     },
     "inputWidgets": {},
     "nuid": "2d1bb95d-e395-48a6-892e-26497d30d960",
     "showTitle": false,
     "title": ""
    }
   },
   "outputs": [
    {
     "output_type": "display_data",
     "data": {
      "text/html": [
       "<style scoped>\n",
       "  .table-result-container {\n",
       "    max-height: 300px;\n",
       "    overflow: auto;\n",
       "  }\n",
       "  table, th, td {\n",
       "    border: 1px solid black;\n",
       "    border-collapse: collapse;\n",
       "  }\n",
       "  th, td {\n",
       "    padding: 5px;\n",
       "  }\n",
       "  th {\n",
       "    text-align: left;\n",
       "  }\n",
       "</style><div class='table-result-container'><table class='table-result'><thead style='background-color: white'><tr></tr></thead><tbody></tbody></table></div>"
      ]
     },
     "metadata": {
      "application/vnd.databricks.v1+output": {
       "addedWidgets": {},
       "aggData": [],
       "aggError": "",
       "aggOverflow": false,
       "aggSchema": [],
       "aggSeriesLimitReached": false,
       "aggType": "",
       "arguments": {},
       "columnCustomDisplayInfos": {},
       "data": [],
       "datasetInfos": [],
       "dbfsResultPath": null,
       "isJsonSchema": true,
       "metadata": {},
       "overflow": false,
       "plotOptions": {
        "customPlotOptions": {},
        "displayType": "table",
        "pivotAggregation": null,
        "pivotColumns": null,
        "xColumns": null,
        "yColumns": null
       },
       "removedWidgets": [],
       "schema": [],
       "type": "table"
      }
     },
     "output_type": "display_data"
    }
   ],
   "source": [
    "%sql\n",
    "create database credit_card_large_cleaning"
   ]
  },
  {
   "cell_type": "code",
   "execution_count": 0,
   "metadata": {
    "application/vnd.databricks.v1+cell": {
     "cellMetadata": {
      "byteLimit": 2048000,
      "rowLimit": 10000
     },
     "inputWidgets": {},
     "nuid": "388366e6-5ffe-4968-8979-00a44a40836d",
     "showTitle": false,
     "title": ""
    }
   },
   "outputs": [],
   "source": [
    "credit_card_large_cleaning_df = spark.read.format('csv').option(\"header\",\"True\").option(\"inferschema\",\"true\").load(\"dbfs:/FileStore/credit_card_large-2.csv\")"
   ]
  },
  {
   "cell_type": "code",
   "execution_count": 0,
   "metadata": {
    "application/vnd.databricks.v1+cell": {
     "cellMetadata": {
      "byteLimit": 2048000,
      "rowLimit": 10000
     },
     "inputWidgets": {},
     "nuid": "c1f5a11d-6fb7-423f-ab3d-6e78d0c37ea4",
     "showTitle": false,
     "title": ""
    }
   },
   "outputs": [
    {
     "output_type": "display_data",
     "data": {
      "text/html": [
       "<style scoped>\n",
       "  .table-result-container {\n",
       "    max-height: 300px;\n",
       "    overflow: auto;\n",
       "  }\n",
       "  table, th, td {\n",
       "    border: 1px solid black;\n",
       "    border-collapse: collapse;\n",
       "  }\n",
       "  th, td {\n",
       "    padding: 5px;\n",
       "  }\n",
       "  th {\n",
       "    text-align: left;\n",
       "  }\n",
       "</style><div class='table-result-container'><table class='table-result'><thead style='background-color: white'><tr><th>path</th><th>name</th><th>size</th><th>modificationTime</th></tr></thead><tbody><tr><td>dbfs:/FileStore/card_holder_large-1.csv</td><td>card_holder_large-1.csv</td><td>201642</td><td>1695547797000</td></tr></tbody></table></div>"
      ]
     },
     "metadata": {
      "application/vnd.databricks.v1+output": {
       "addedWidgets": {},
       "aggData": [],
       "aggError": "",
       "aggOverflow": false,
       "aggSchema": [],
       "aggSeriesLimitReached": false,
       "aggType": "",
       "arguments": {},
       "columnCustomDisplayInfos": {},
       "data": [
        [
         "dbfs:/FileStore/card_holder_large-1.csv",
         "card_holder_large-1.csv",
         201642,
         1695547797000
        ]
       ],
       "datasetInfos": [],
       "dbfsResultPath": null,
       "isJsonSchema": true,
       "metadata": {
        "isDbfsCommandResult": false
       },
       "overflow": false,
       "plotOptions": {
        "customPlotOptions": {},
        "displayType": "table",
        "pivotAggregation": null,
        "pivotColumns": null,
        "xColumns": null,
        "yColumns": null
       },
       "removedWidgets": [],
       "schema": [
        {
         "metadata": "{}",
         "name": "path",
         "type": "\"string\""
        },
        {
         "metadata": "{}",
         "name": "name",
         "type": "\"string\""
        },
        {
         "metadata": "{}",
         "name": "size",
         "type": "\"long\""
        },
        {
         "metadata": "{}",
         "name": "modificationTime",
         "type": "\"long\""
        }
       ],
       "type": "table"
      }
     },
     "output_type": "display_data"
    }
   ],
   "source": [
    "%fs\n",
    "ls /FileStore/card_holder_large-1.csv\n",
    "\n"
   ]
  },
  {
   "cell_type": "code",
   "execution_count": 0,
   "metadata": {
    "application/vnd.databricks.v1+cell": {
     "cellMetadata": {
      "byteLimit": 2048000,
      "implicitDf": true,
      "rowLimit": 10000
     },
     "inputWidgets": {},
     "nuid": "55fcecc4-7f14-4323-91de-689274708f3f",
     "showTitle": false,
     "title": ""
    }
   },
   "outputs": [
    {
     "output_type": "display_data",
     "data": {
      "text/html": [
       "<style scoped>\n",
       "  .table-result-container {\n",
       "    max-height: 300px;\n",
       "    overflow: auto;\n",
       "  }\n",
       "  table, th, td {\n",
       "    border: 1px solid black;\n",
       "    border-collapse: collapse;\n",
       "  }\n",
       "  th, td {\n",
       "    padding: 5px;\n",
       "  }\n",
       "  th {\n",
       "    text-align: left;\n",
       "  }\n",
       "</style><div class='table-result-container'><table class='table-result'><thead style='background-color: white'><tr></tr></thead><tbody></tbody></table></div>"
      ]
     },
     "metadata": {
      "application/vnd.databricks.v1+output": {
       "addedWidgets": {},
       "aggData": [],
       "aggError": "",
       "aggOverflow": false,
       "aggSchema": [],
       "aggSeriesLimitReached": false,
       "aggType": "",
       "arguments": {},
       "columnCustomDisplayInfos": {},
       "data": [],
       "datasetInfos": [],
       "dbfsResultPath": null,
       "isJsonSchema": true,
       "metadata": {},
       "overflow": false,
       "plotOptions": {
        "customPlotOptions": {},
        "displayType": "table",
        "pivotAggregation": null,
        "pivotColumns": null,
        "xColumns": null,
        "yColumns": null
       },
       "removedWidgets": [],
       "schema": [],
       "type": "table"
      }
     },
     "output_type": "display_data"
    }
   ],
   "source": [
    "%sql\n",
    "create database card_holder_large_cleaning"
   ]
  },
  {
   "cell_type": "code",
   "execution_count": 0,
   "metadata": {
    "application/vnd.databricks.v1+cell": {
     "cellMetadata": {
      "byteLimit": 2048000,
      "rowLimit": 10000
     },
     "inputWidgets": {},
     "nuid": "179f0479-b968-4ce7-9244-23381ec75c11",
     "showTitle": false,
     "title": ""
    }
   },
   "outputs": [],
   "source": [
    "card_holder_large_cleaning_df = spark.read.format('csv').option(\"header\",\"True\").option(\"inferschema\",\"true\").load(\"dbfs:/FileStore/card_holder_large-1.csv\")"
   ]
  },
  {
   "cell_type": "code",
   "execution_count": 0,
   "metadata": {
    "application/vnd.databricks.v1+cell": {
     "cellMetadata": {
      "byteLimit": 2048000,
      "rowLimit": 10000
     },
     "inputWidgets": {},
     "nuid": "8287a119-d436-4695-8d2b-671943b15f42",
     "showTitle": false,
     "title": ""
    }
   },
   "outputs": [],
   "source": [
    "from pyspark.sql.functions import when, col"
   ]
  },
  {
   "cell_type": "code",
   "execution_count": 0,
   "metadata": {
    "application/vnd.databricks.v1+cell": {
     "cellMetadata": {
      "byteLimit": 2048000,
      "rowLimit": 10000
     },
     "inputWidgets": {},
     "nuid": "426a8808-4411-408a-9189-ba6661a9793a",
     "showTitle": false,
     "title": ""
    }
   },
   "outputs": [
    {
     "output_type": "stream",
     "name": "stdout",
     "output_type": "stream",
     "text": [
      "+--------------+--------------------+\n|id_card_holder|         card_number|\n+--------------+--------------------+\n|          2306|          4.28219E12|\n|          5253|          4.43817E15|\n|          1466|          1.80019E14|\n|          6227|           3.5995E15|\n|          2489|          4.06665E15|\n|          2720|          3.00387E13|\n|          6855|          6.76342E11|\n|          3883|       4.454223452E9|\n|          9445|          4.08189E18|\n|          7291|           3.5403E15|\n|          9258|          3.51468E15|\n|          3234|7.485848382838282...|\n|          9149|          4.94379E15|\n|          9999|          4.54953E15|\n|          3505|          4.47428E15|\n|          3625|          2.24191E15|\n|          9999|          6.30478E11|\n|          7338|          4.84069E12|\n|          4815|          2.29413E15|\n|          4006|          4.23601E12|\n+--------------+--------------------+\nonly showing top 20 rows\n\n"
     ]
    }
   ],
   "source": [
    "# Replace null values in 'id_card_holder' with '9999'\n",
    "df = credit_card_large_cleaning_df.withColumn(\"id_card_holder\", when(col(\"id_card_holder\").isNull(), \"9999\").otherwise(col(\"id_card_holder\")))\n",
    "df.show()"
   ]
  },
  {
   "cell_type": "code",
   "execution_count": 0,
   "metadata": {
    "application/vnd.databricks.v1+cell": {
     "cellMetadata": {
      "byteLimit": 2048000,
      "rowLimit": 10000
     },
     "inputWidgets": {},
     "nuid": "3b03470d-a424-47ce-b082-05d675f73363",
     "showTitle": false,
     "title": ""
    }
   },
   "outputs": [
    {
     "output_type": "stream",
     "name": "stdout",
     "output_type": "stream",
     "text": [
      "Out[24]: 10001"
     ]
    }
   ],
   "source": [
    "df.count()"
   ]
  },
  {
   "cell_type": "code",
   "execution_count": 0,
   "metadata": {
    "application/vnd.databricks.v1+cell": {
     "cellMetadata": {
      "byteLimit": 2048000,
      "rowLimit": 10000
     },
     "inputWidgets": {},
     "nuid": "5c4c29b0-6f59-4b21-af38-55a9ff673878",
     "showTitle": false,
     "title": ""
    }
   },
   "outputs": [],
   "source": [
    "# Filter out records where 'card' field is missing\n",
    "df2 = df.filter(df.card_number.isNotNull())"
   ]
  },
  {
   "cell_type": "code",
   "execution_count": 0,
   "metadata": {
    "application/vnd.databricks.v1+cell": {
     "cellMetadata": {
      "byteLimit": 2048000,
      "rowLimit": 10000
     },
     "inputWidgets": {},
     "nuid": "81d76570-dc02-4110-be37-c08286ac357a",
     "showTitle": false,
     "title": ""
    }
   },
   "outputs": [
    {
     "output_type": "stream",
     "name": "stdout",
     "output_type": "stream",
     "text": [
      "Out[26]: 9999"
     ]
    }
   ],
   "source": [
    "df2.count()"
   ]
  },
  {
   "cell_type": "code",
   "execution_count": 0,
   "metadata": {
    "application/vnd.databricks.v1+cell": {
     "cellMetadata": {
      "byteLimit": 2048000,
      "rowLimit": 10000
     },
     "inputWidgets": {},
     "nuid": "cb207b6b-2863-45b5-ba0b-044a44918ed7",
     "showTitle": false,
     "title": ""
    }
   },
   "outputs": [
    {
     "output_type": "stream",
     "name": "stdout",
     "output_type": "stream",
     "text": [
      "+--------------+--------------------+\n|id_card_holder|         card_number|\n+--------------+--------------------+\n| 9.999999999E9|1.212121212121212E15|\n+--------------+--------------------+\n\n"
     ]
    }
   ],
   "source": [
    "from pyspark.sql import SparkSession\n",
    "from pyspark.sql.functions import col, percentile_approx\n",
    "\n",
    "# Convert 'id_card_holder' to numeric type\n",
    "df = df2.withColumn(\"id_card_holder\", df[\"id_card_holder\"].cast(\"double\"))\n",
    "\n",
    "# Calculate Q1 and Q3\n",
    "bounds = df.stat.approxQuantile(\"id_card_holder\", [0.25, 0.75], 0)\n",
    "\n",
    "# Calculate IQR\n",
    "IQR = bounds[1] - bounds[0]\n",
    "\n",
    "# Define lower and upper bounds for outliers\n",
    "lower_bound = bounds[0] - 1.5 * IQR\n",
    "upper_bound = bounds[1] + 1.5 * IQR\n",
    "\n",
    "# Filter the DataFrame to include only outlier rows\n",
    "df_outliers = df.filter((col(\"id_card_holder\") < lower_bound) | (col(\"id_card_holder\") > upper_bound))\n",
    "\n",
    "# Show the result\n",
    "df_outliers.show()\n"
   ]
  },
  {
   "cell_type": "code",
   "execution_count": 0,
   "metadata": {
    "application/vnd.databricks.v1+cell": {
     "cellMetadata": {
      "byteLimit": 2048000,
      "rowLimit": 10000
     },
     "inputWidgets": {},
     "nuid": "c7b3388b-31b9-4594-b32a-aeb6667e837e",
     "showTitle": false,
     "title": ""
    }
   },
   "outputs": [
    {
     "output_type": "stream",
     "name": "stdout",
     "output_type": "stream",
     "text": [
      "+--------------+--------------------+----+----------------+\n|id_card_holder|         card_number|  id|            name|\n+--------------+--------------------+----+----------------+\n|          2306|          4.28219E12|2306|    Matthew Reed|\n|          5253|          4.43817E15|5253|    Kelly Norris|\n|          1466|          1.80019E14|1466|Natalie Williams|\n|          2720|          3.00387E13|2720|  Carl Rodriguez|\n|          7291|           3.5403E15|7291|   Andrea Burton|\n|          7291|           3.5403E15|7291|  Teresa Cabrera|\n|          9258|          3.51468E15|9258|   Jessica Gomez|\n|          3234|7.485848382838282...|3234|  Jennifer Brown|\n|          9149|          4.94379E15|9149|  Amy Montgomery|\n|          9149|          4.94379E15|9149|   Linda Carroll|\n|          9999|          4.54953E15|9999|    Anne Chapman|\n|          3625|          2.24191E15|3625|  Robert Vasquez|\n|          3625|          2.24191E15|3625|   Jared Perkins|\n|          9999|          6.30478E11|9999|    Anne Chapman|\n|          7338|          4.84069E12|7338|  Walter Ramirez|\n|          4006|          4.23601E12|4006|      Teresa May|\n|          8487|          4.18217E15|8487| Christina Black|\n|          3527|          6.01183E15|3527|     Michele Ray|\n|          8933|          2.33287E15|8933|     Thomas Wood|\n|          8933|          2.33287E15|8933|     Kelsey Cook|\n+--------------+--------------------+----+----------------+\nonly showing top 20 rows\n\n"
     ]
    }
   ],
   "source": [
    "# Join the two DataFrames on the 'id_card_holder' and 'id' fields\n",
    "joined_df = df2.join(card_holder_large_cleaning_df, df2.id_card_holder == card_holder_large_cleaning_df.id)\n",
    "\n",
    "# Show the result\n",
    "joined_df.show()\n"
   ]
  },
  {
   "cell_type": "code",
   "execution_count": 0,
   "metadata": {
    "application/vnd.databricks.v1+cell": {
     "cellMetadata": {
      "byteLimit": 2048000,
      "rowLimit": 10000
     },
     "inputWidgets": {},
     "nuid": "8288abe0-09a9-475c-9a82-482acb950463",
     "showTitle": false,
     "title": ""
    }
   },
   "outputs": [
    {
     "output_type": "stream",
     "name": "stdout",
     "output_type": "stream",
     "text": [
      "Out[29]: 10078"
     ]
    }
   ],
   "source": [
    "joined_df.count()"
   ]
  },
  {
   "cell_type": "code",
   "execution_count": 0,
   "metadata": {
    "application/vnd.databricks.v1+cell": {
     "cellMetadata": {
      "byteLimit": 2048000,
      "rowLimit": 10000
     },
     "inputWidgets": {},
     "nuid": "54a203df-72c7-43af-a076-6ba22a5be8ba",
     "showTitle": false,
     "title": ""
    }
   },
   "outputs": [
    {
     "output_type": "stream",
     "name": "stdout",
     "output_type": "stream",
     "text": [
      "+--------------+--------------------+----+----------------+-----------+\n|id_card_holder|         card_number|  id|            name|card_length|\n+--------------+--------------------+----+----------------+-----------+\n|          2306|          4.28219E12|2306|    Matthew Reed|         10|\n|          5253|          4.43817E15|5253|    Kelly Norris|         10|\n|          1466|          1.80019E14|1466|Natalie Williams|         10|\n|          2720|          3.00387E13|2720|  Carl Rodriguez|         10|\n|          7291|           3.5403E15|7291|   Andrea Burton|          9|\n|          7291|           3.5403E15|7291|  Teresa Cabrera|          9|\n|          9258|          3.51468E15|9258|   Jessica Gomez|         10|\n|          3234|7.485848382838282...|3234|  Jennifer Brown|         21|\n|          9149|          4.94379E15|9149|  Amy Montgomery|         10|\n|          9149|          4.94379E15|9149|   Linda Carroll|         10|\n|          9999|          4.54953E15|9999|    Anne Chapman|         10|\n|          3625|          2.24191E15|3625|  Robert Vasquez|         10|\n|          3625|          2.24191E15|3625|   Jared Perkins|         10|\n|          9999|          6.30478E11|9999|    Anne Chapman|         10|\n|          7338|          4.84069E12|7338|  Walter Ramirez|         10|\n|          4006|          4.23601E12|4006|      Teresa May|         10|\n|          8487|          4.18217E15|8487| Christina Black|         10|\n|          3527|          6.01183E15|3527|     Michele Ray|         10|\n|          8933|          2.33287E15|8933|     Thomas Wood|         10|\n|          8933|          2.33287E15|8933|     Kelsey Cook|         10|\n+--------------+--------------------+----+----------------+-----------+\nonly showing top 20 rows\n\n"
     ]
    }
   ],
   "source": [
    "df = joined_df.withColumn(\"card_length\", length(joined_df.card_number))\n",
    "df.show()"
   ]
  },
  {
   "cell_type": "code",
   "execution_count": 0,
   "metadata": {
    "application/vnd.databricks.v1+cell": {
     "cellMetadata": {
      "byteLimit": 2048000,
      "rowLimit": 10000
     },
     "inputWidgets": {},
     "nuid": "1a684cfa-1650-496e-839a-1b05488c886a",
     "showTitle": false,
     "title": ""
    }
   },
   "outputs": [],
   "source": [
    "df_valid = df.withColumn(\"is_valid\", when((col(\"card_length\") >= 10) & (col(\"card_length\") <= 18), True).otherwise(False))"
   ]
  },
  {
   "cell_type": "code",
   "execution_count": 0,
   "metadata": {
    "application/vnd.databricks.v1+cell": {
     "cellMetadata": {
      "byteLimit": 2048000,
      "rowLimit": 10000
     },
     "inputWidgets": {},
     "nuid": "913af7b8-8df5-44cc-a8c8-6e1187550858",
     "showTitle": false,
     "title": ""
    }
   },
   "outputs": [
    {
     "output_type": "stream",
     "name": "stdout",
     "output_type": "stream",
     "text": [
      "+--------------+--------------------+----+----------------+-----------+--------+\n|id_card_holder|         card_number|  id|            name|card_length|is_valid|\n+--------------+--------------------+----+----------------+-----------+--------+\n|          2306|          4.28219E12|2306|    Matthew Reed|         10|    true|\n|          5253|          4.43817E15|5253|    Kelly Norris|         10|    true|\n|          1466|          1.80019E14|1466|Natalie Williams|         10|    true|\n|          2720|          3.00387E13|2720|  Carl Rodriguez|         10|    true|\n|          7291|           3.5403E15|7291|   Andrea Burton|          9|   false|\n|          7291|           3.5403E15|7291|  Teresa Cabrera|          9|   false|\n|          9258|          3.51468E15|9258|   Jessica Gomez|         10|    true|\n|          3234|7.485848382838282...|3234|  Jennifer Brown|         21|   false|\n|          9149|          4.94379E15|9149|  Amy Montgomery|         10|    true|\n|          9149|          4.94379E15|9149|   Linda Carroll|         10|    true|\n|          9999|          4.54953E15|9999|    Anne Chapman|         10|    true|\n|          3625|          2.24191E15|3625|  Robert Vasquez|         10|    true|\n|          3625|          2.24191E15|3625|   Jared Perkins|         10|    true|\n|          9999|          6.30478E11|9999|    Anne Chapman|         10|    true|\n|          7338|          4.84069E12|7338|  Walter Ramirez|         10|    true|\n|          4006|          4.23601E12|4006|      Teresa May|         10|    true|\n|          8487|          4.18217E15|8487| Christina Black|         10|    true|\n|          3527|          6.01183E15|3527|     Michele Ray|         10|    true|\n|          8933|          2.33287E15|8933|     Thomas Wood|         10|    true|\n|          8933|          2.33287E15|8933|     Kelsey Cook|         10|    true|\n+--------------+--------------------+----+----------------+-----------+--------+\nonly showing top 20 rows\n\n"
     ]
    }
   ],
   "source": [
    "df_valid.show()"
   ]
  },
  {
   "cell_type": "code",
   "execution_count": 0,
   "metadata": {
    "application/vnd.databricks.v1+cell": {
     "cellMetadata": {
      "byteLimit": 2048000,
      "rowLimit": 10000
     },
     "inputWidgets": {},
     "nuid": "2c9f9c76-fd12-40dd-a4bc-fc1e78e83310",
     "showTitle": false,
     "title": ""
    }
   },
   "outputs": [],
   "source": [
    "df_valid.write.format(\"csv\").option(\"header\",\"true\").save(\"/FileStore/data/cleaned/credit_card_cleaned_data.csv\")\n"
   ]
  },
  {
   "cell_type": "code",
   "execution_count": 0,
   "metadata": {
    "application/vnd.databricks.v1+cell": {
     "cellMetadata": {
      "byteLimit": 2048000,
      "rowLimit": 10000
     },
     "inputWidgets": {},
     "nuid": "447c03c7-f144-401c-ae0c-ae2ea9484e1c",
     "showTitle": false,
     "title": ""
    }
   },
   "outputs": [],
   "source": [
    "#Card_holder_large\n",
    "from pyspark.sql import SparkSession\n",
    "\n",
    "# Option 1: Exclude these records from certain analyses\n",
    "df_no_missing = card_holder_large_cleaning_df.filter(card_holder_large_cleaning_df['name'].isNotNull())\n",
    "\n",
    "# Option 2: Flag them for further investigation by adding a new column\n",
    "df_flagged = card_holder_large_cleaning_df.withColumn('name_missing', card_holder_large_cleaning_df['name'].isNull())\n"
   ]
  },
  {
   "cell_type": "code",
   "execution_count": 0,
   "metadata": {
    "application/vnd.databricks.v1+cell": {
     "cellMetadata": {
      "byteLimit": 2048000,
      "rowLimit": 10000
     },
     "inputWidgets": {},
     "nuid": "3efbccb9-e61e-4b20-9b35-5bef161981b1",
     "showTitle": false,
     "title": ""
    }
   },
   "outputs": [
    {
     "output_type": "stream",
     "name": "stdout",
     "output_type": "stream",
     "text": [
      "+----+-------------------+------------+\n|  id|               name|name_missing|\n+----+-------------------+------------+\n|9074|       Victor Petty|       false|\n|7992|G%abrielle Ferguson|       false|\n|5410|     William Davies|       false|\n|4930|       Jesse Morris|       false|\n| 634| Christopher Huerta|       false|\n|9939|    Jer-emy Everett|       false|\n|6508|               null|        true|\n|4095|  Katherine Salazar|       false|\n|2959|  Bethany Whitehead|       false|\n| 210|        Scott Walsh|       false|\n|8560|      Jerry Simmons|       false|\n|1302|     Melissa Murray|       false|\n|1747|        Troy Joseph|       false|\n|7663|               null|        true|\n|8842|       Charles Webb|       false|\n|2609| Austin Carrillo II|       false|\n| 659|    Michelle Nelson|       false|\n|6499|        Luis Archer|       false|\n|1923|        Lori Potter|       false|\n|9744|       Allison Lowe|       false|\n+----+-------------------+------------+\nonly showing top 20 rows\n\n"
     ]
    }
   ],
   "source": [
    "df_flagged.show()"
   ]
  },
  {
   "cell_type": "code",
   "execution_count": 0,
   "metadata": {
    "application/vnd.databricks.v1+cell": {
     "cellMetadata": {
      "byteLimit": 2048000,
      "rowLimit": 10000
     },
     "inputWidgets": {},
     "nuid": "162b9952-f979-434d-ba9d-7e5ea122a16a",
     "showTitle": false,
     "title": ""
    }
   },
   "outputs": [],
   "source": [
    "from pyspark.sql.functions import col, udf\n",
    "from pyspark.sql.types import BooleanType\n",
    "import re\n",
    "\n",
    "# Define a UDF that checks if a name is valid (contains only alphabets and spaces)\n",
    "def is_valid_name(name):\n",
    "    if name is None:\n",
    "        return False\n",
    "    return bool(re.fullmatch('[A-Za-z ]+', name))\n",
    "\n",
    "# Register the UDF\n",
    "spark.udf.register('is_valid_name', is_valid_name, BooleanType())\n",
    "\n",
    "# Use the UDF to add a new column 'name_is_valid' that indicates if the name is valid\n",
    "df_validated = df_flagged.withColumn('name_is_valid', udf(is_valid_name, BooleanType())(col('name')))\n",
    "\n",
    "# Now df_validated contains an additional column 'name_is_valid' that is True if the name is valid and False otherwise\n"
   ]
  },
  {
   "cell_type": "code",
   "execution_count": 0,
   "metadata": {
    "application/vnd.databricks.v1+cell": {
     "cellMetadata": {
      "byteLimit": 2048000,
      "rowLimit": 10000
     },
     "inputWidgets": {},
     "nuid": "48320252-fc34-4529-b719-9bc14fabb6d8",
     "showTitle": false,
     "title": ""
    }
   },
   "outputs": [
    {
     "output_type": "stream",
     "name": "stdout",
     "output_type": "stream",
     "text": [
      "+----+-------------------+------------+-------------+\n|  id|               name|name_missing|name_is_valid|\n+----+-------------------+------------+-------------+\n|9074|       Victor Petty|       false|         true|\n|7992|G%abrielle Ferguson|       false|        false|\n|5410|     William Davies|       false|         true|\n|4930|       Jesse Morris|       false|         true|\n| 634| Christopher Huerta|       false|         true|\n|9939|    Jer-emy Everett|       false|        false|\n|6508|               null|        true|        false|\n|4095|  Katherine Salazar|       false|         true|\n|2959|  Bethany Whitehead|       false|         true|\n| 210|        Scott Walsh|       false|         true|\n|8560|      Jerry Simmons|       false|         true|\n|1302|     Melissa Murray|       false|         true|\n|1747|        Troy Joseph|       false|         true|\n|7663|               null|        true|        false|\n|8842|       Charles Webb|       false|         true|\n|2609| Austin Carrillo II|       false|         true|\n| 659|    Michelle Nelson|       false|         true|\n|6499|        Luis Archer|       false|         true|\n|1923|        Lori Potter|       false|         true|\n|9744|       Allison Lowe|       false|         true|\n+----+-------------------+------------+-------------+\nonly showing top 20 rows\n\n"
     ]
    }
   ],
   "source": [
    "df_validated.show()"
   ]
  },
  {
   "cell_type": "code",
   "execution_count": 0,
   "metadata": {
    "application/vnd.databricks.v1+cell": {
     "cellMetadata": {
      "byteLimit": 2048000,
      "rowLimit": 10000
     },
     "inputWidgets": {},
     "nuid": "7f0bd28a-77bc-4584-8028-43a917ecbdeb",
     "showTitle": false,
     "title": ""
    }
   },
   "outputs": [],
   "source": [
    "df_validated.write.format(\"csv\").option(\"header\",\"true\").save(\"/FileStore/data/cleaned/card_holder_cleaned_data.csv\")\n"
   ]
  },
  {
   "cell_type": "code",
   "execution_count": 0,
   "metadata": {
    "application/vnd.databricks.v1+cell": {
     "cellMetadata": {},
     "inputWidgets": {},
     "nuid": "eec4f9e8-38ba-48ca-9af2-0d6081692ba4",
     "showTitle": false,
     "title": ""
    }
   },
   "outputs": [],
   "source": []
  }
 ],
 "metadata": {
  "application/vnd.databricks.v1+notebook": {
   "dashboards": [],
   "language": "python",
   "notebookMetadata": {
    "mostRecentlyExecutedCommandWithImplicitDF": {
     "commandId": 2069260047773660,
     "dataframes": [
      "_sqldf"
     ]
    },
    "pythonIndentUnit": 4
   },
   "notebookName": "Data_Cleaning_Credit_Card_Large_&_Card_Holder_large",
   "widgets": {}
  }
 },
 "nbformat": 4,
 "nbformat_minor": 0
}
