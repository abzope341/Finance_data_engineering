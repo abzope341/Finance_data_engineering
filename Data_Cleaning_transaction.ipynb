{
 "cells": [
  {
   "cell_type": "code",
   "execution_count": 0,
   "metadata": {
    "application/vnd.databricks.v1+cell": {
     "cellMetadata": {
      "byteLimit": 2048000,
      "rowLimit": 10000
     },
     "inputWidgets": {},
     "nuid": "a272e1eb-9d57-4458-b639-c6b9f50d81f3",
     "showTitle": false,
     "title": ""
    }
   },
   "outputs": [
    {
     "output_type": "display_data",
     "data": {
      "text/html": [
       "<style scoped>\n",
       "  .table-result-container {\n",
       "    max-height: 300px;\n",
       "    overflow: auto;\n",
       "  }\n",
       "  table, th, td {\n",
       "    border: 1px solid black;\n",
       "    border-collapse: collapse;\n",
       "  }\n",
       "  th, td {\n",
       "    padding: 5px;\n",
       "  }\n",
       "  th {\n",
       "    text-align: left;\n",
       "  }\n",
       "</style><div class='table-result-container'><table class='table-result'><thead style='background-color: white'><tr><th>path</th><th>name</th><th>size</th><th>modificationTime</th></tr></thead><tbody><tr><td>dbfs:/FileStore/transaction_large-1.csv</td><td>transaction_large-1.csv</td><td>54228538</td><td>1695534819000</td></tr></tbody></table></div>"
      ]
     },
     "metadata": {
      "application/vnd.databricks.v1+output": {
       "addedWidgets": {},
       "aggData": [],
       "aggError": "",
       "aggOverflow": false,
       "aggSchema": [],
       "aggSeriesLimitReached": false,
       "aggType": "",
       "arguments": {},
       "columnCustomDisplayInfos": {},
       "data": [
        [
         "dbfs:/FileStore/transaction_large-1.csv",
         "transaction_large-1.csv",
         54228538,
         1695534819000
        ]
       ],
       "datasetInfos": [],
       "dbfsResultPath": null,
       "isJsonSchema": true,
       "metadata": {
        "isDbfsCommandResult": false
       },
       "overflow": false,
       "plotOptions": {
        "customPlotOptions": {},
        "displayType": "table",
        "pivotAggregation": null,
        "pivotColumns": null,
        "xColumns": null,
        "yColumns": null
       },
       "removedWidgets": [],
       "schema": [
        {
         "metadata": "{}",
         "name": "path",
         "type": "\"string\""
        },
        {
         "metadata": "{}",
         "name": "name",
         "type": "\"string\""
        },
        {
         "metadata": "{}",
         "name": "size",
         "type": "\"long\""
        },
        {
         "metadata": "{}",
         "name": "modificationTime",
         "type": "\"long\""
        }
       ],
       "type": "table"
      }
     },
     "output_type": "display_data"
    }
   ],
   "source": [
    "%fs\n",
    "ls /FileStore/transaction_large-1.csv\n"
   ]
  },
  {
   "cell_type": "code",
   "execution_count": 0,
   "metadata": {
    "application/vnd.databricks.v1+cell": {
     "cellMetadata": {
      "byteLimit": 2048000,
      "implicitDf": true,
      "rowLimit": 10000
     },
     "inputWidgets": {},
     "nuid": "c4ae123b-1acd-4266-9d6f-edcb6361bb36",
     "showTitle": false,
     "title": ""
    }
   },
   "outputs": [
    {
     "output_type": "display_data",
     "data": {
      "text/html": [
       "<style scoped>\n",
       "  .table-result-container {\n",
       "    max-height: 300px;\n",
       "    overflow: auto;\n",
       "  }\n",
       "  table, th, td {\n",
       "    border: 1px solid black;\n",
       "    border-collapse: collapse;\n",
       "  }\n",
       "  th, td {\n",
       "    padding: 5px;\n",
       "  }\n",
       "  th {\n",
       "    text-align: left;\n",
       "  }\n",
       "</style><div class='table-result-container'><table class='table-result'><thead style='background-color: white'><tr></tr></thead><tbody></tbody></table></div>"
      ]
     },
     "metadata": {
      "application/vnd.databricks.v1+output": {
       "addedWidgets": {},
       "aggData": [],
       "aggError": "",
       "aggOverflow": false,
       "aggSchema": [],
       "aggSeriesLimitReached": false,
       "aggType": "",
       "arguments": {},
       "columnCustomDisplayInfos": {},
       "data": [],
       "datasetInfos": [],
       "dbfsResultPath": null,
       "isJsonSchema": true,
       "metadata": {},
       "overflow": false,
       "plotOptions": {
        "customPlotOptions": {},
        "displayType": "table",
        "pivotAggregation": null,
        "pivotColumns": null,
        "xColumns": null,
        "yColumns": null
       },
       "removedWidgets": [],
       "schema": [],
       "type": "table"
      }
     },
     "output_type": "display_data"
    }
   ],
   "source": [
    "%sql\n",
    "create database transaction_large_table_cleaning"
   ]
  },
  {
   "cell_type": "code",
   "execution_count": 0,
   "metadata": {
    "application/vnd.databricks.v1+cell": {
     "cellMetadata": {
      "byteLimit": 2048000,
      "rowLimit": 10000
     },
     "inputWidgets": {},
     "nuid": "0e3c5e1a-266d-4459-a81d-9b3878b9296a",
     "showTitle": false,
     "title": ""
    }
   },
   "outputs": [],
   "source": [
    "transaction_large_cleaning_df = spark.read.format('csv').option(\"header\",\"True\").option(\"inferschema\",\"true\").load(\"dbfs:/FileStore/transaction_large-1.csv\")"
   ]
  },
  {
   "cell_type": "code",
   "execution_count": 0,
   "metadata": {
    "application/vnd.databricks.v1+cell": {
     "cellMetadata": {
      "byteLimit": 2048000,
      "rowLimit": 10000
     },
     "inputWidgets": {},
     "nuid": "1c10f2eb-5f2b-4e24-9588-983e5e458e79",
     "showTitle": false,
     "title": ""
    }
   },
   "outputs": [
    {
     "output_type": "stream",
     "name": "stdout",
     "output_type": "stream",
     "text": [
      "Out[4]: 1048575"
     ]
    }
   ],
   "source": [
    "transaction_large_cleaning_df.count()"
   ]
  },
  {
   "cell_type": "code",
   "execution_count": 0,
   "metadata": {
    "application/vnd.databricks.v1+cell": {
     "cellMetadata": {
      "byteLimit": 2048000,
      "rowLimit": 10000
     },
     "inputWidgets": {},
     "nuid": "fe50b369-d431-475c-94bb-0a2b987d2c1c",
     "showTitle": false,
     "title": ""
    }
   },
   "outputs": [],
   "source": [
    "from pyspark.sql import SparkSession\n",
    "from pyspark.sql.functions import col\n",
    "from pyspark.sql.types import FloatType\n",
    "\n",
    "# Create a SparkSession\n",
    "spark = SparkSession.builder.appName(\"HandleOutliers\").getOrCreate()\n",
    "\n",
    "# Load your DataFrame\n",
    "transaction_large_cleaning_df = spark.read.format(\"csv\").option(\"header\",\"True\").option(\"inferschema\",\"true\").load(\"dbfs:/FileStore/transaction_large-1.csv\")\n",
    "\n",
    "# Convert 'amount' column to FloatType\n",
    "transaction_large_cleaning_df = transaction_large_cleaning_df.withColumn(\"amount\", transaction_large_cleaning_df[\"amount\"].cast(FloatType()))\n",
    "\n",
    "# Calculate Q1, Q3, and IQR\n",
    "bounds = transaction_large_cleaning_df.stat.approxQuantile(\"amount\", [0.25, 0.75], 0)\n",
    "Q1 = bounds[0]\n",
    "Q3 = bounds[1]\n",
    "IQR = Q3 - Q1\n",
    "\n",
    "# Define lower and upper bounds for outliers\n",
    "lower_bound = Q1 - 1.5 * IQR\n",
    "upper_bound = Q3 + 1.5 * IQR\n",
    "\n",
    "# Filter the data frame to remove outliers\n",
    "transaction_large_df_no_outliers = transaction_large_cleaning_df.filter((col(\"amount\") >= lower_bound) & (col(\"amount\") <= upper_bound))\n"
   ]
  },
  {
   "cell_type": "code",
   "execution_count": 0,
   "metadata": {
    "application/vnd.databricks.v1+cell": {
     "cellMetadata": {
      "byteLimit": 2048000,
      "rowLimit": 10000
     },
     "inputWidgets": {},
     "nuid": "ff68cbc6-9d06-4ebe-8f31-220248925f7b",
     "showTitle": false,
     "title": ""
    }
   },
   "outputs": [
    {
     "output_type": "stream",
     "name": "stdout",
     "output_type": "stream",
     "text": [
      "Out[6]: 1048571"
     ]
    }
   ],
   "source": [
    "transaction_large_df_no_outliers.count()"
   ]
  },
  {
   "cell_type": "code",
   "execution_count": 0,
   "metadata": {
    "application/vnd.databricks.v1+cell": {
     "cellMetadata": {
      "byteLimit": 2048000,
      "rowLimit": 10000
     },
     "inputWidgets": {},
     "nuid": "4f032c80-3cb0-4e31-83ec-cd68649fed09",
     "showTitle": false,
     "title": ""
    }
   },
   "outputs": [
    {
     "output_type": "stream",
     "name": "stdout",
     "output_type": "stream",
     "text": [
      "+----+----------------+------+----------------+-----------+\n|  id|        datetime|amount|       card_type|merchant_id|\n+----+----------------+------+----------------+-----------+\n|1630|09-07-1989 08:04|   1.0|      MasterCard|   MID59578|\n|1630|            null| 16.29|      MasterCard|   MID59578|\n|1630|09-07-1989 08:04| 16.29|      MasterCard|   MID59578|\n|1630|            null| 16.29|      MasterCard|   MID59578|\n|1630|09-07-1989 08:04| 16.29|      MasterCard|   MID59578|\n|1638|16-04-1979 00:41|117.58|      MasterCard|   MID31981|\n|1639|30-09-2000 20:41|873.13|American Express|   MID18885|\n|1641|29-11-1975 01:12|851.32|American Express|   MID16625|\n|1642|12-11-2012 03:14|458.94|      MasterCard|   MID64824|\n|1643|24-02-1999 03:03|443.87|American Express|   MID10496|\n|1644|20-01-1995 05:17|907.26|            Visa|   MID47464|\n|1645|22-08-1987 19:59| 648.3|            Visa|   MID60019|\n|1646|25-07-1985 20:53|440.18|      MasterCard|   MID53261|\n|1647|18-11-2005 12:09|641.65|American Express|   MID35524|\n|1648|29-11-2017 03:15|323.84|American Express|   MID45125|\n|1649|15-10-1999 00:11|665.52|American Express|   MID88284|\n|1650|07-03-2006 13:57|365.99|            Visa|   MID55058|\n|1651|10-10-2013 05:59|680.33|      MasterCard|   MID51372|\n|1652|21-10-1983 09:13|535.67|            Visa|   MID47553|\n|1653|21-07-1976 23:47|801.55|            Visa|   MID17598|\n+----+----------------+------+----------------+-----------+\nonly showing top 20 rows\n\n"
     ]
    }
   ],
   "source": [
    "transaction_large_df_no_outliers.show()"
   ]
  },
  {
   "cell_type": "code",
   "execution_count": 0,
   "metadata": {
    "application/vnd.databricks.v1+cell": {
     "cellMetadata": {
      "byteLimit": 2048000,
      "rowLimit": 10000
     },
     "inputWidgets": {},
     "nuid": "a8880827-54dc-4921-90f3-ddf1dde67526",
     "showTitle": false,
     "title": ""
    }
   },
   "outputs": [
    {
     "output_type": "stream",
     "name": "stdout",
     "output_type": "stream",
     "text": [
      "root\n |-- id: integer (nullable = true)\n |-- datetime: string (nullable = true)\n |-- amount: float (nullable = true)\n |-- card_type: string (nullable = true)\n |-- merchant_id: string (nullable = true)\n\n"
     ]
    }
   ],
   "source": [
    "transaction_large_df_no_outliers.printSchema()"
   ]
  },
  {
   "cell_type": "code",
   "execution_count": 0,
   "metadata": {
    "application/vnd.databricks.v1+cell": {
     "cellMetadata": {
      "byteLimit": 2048000,
      "rowLimit": 10000
     },
     "inputWidgets": {},
     "nuid": "cd79ef52-a6b6-4cd9-b28b-59a4e8eacd78",
     "showTitle": false,
     "title": ""
    }
   },
   "outputs": [],
   "source": [
    "from pyspark.sql.functions import split\n",
    "from pyspark.sql.functions import split, to_date"
   ]
  },
  {
   "cell_type": "code",
   "execution_count": 0,
   "metadata": {
    "application/vnd.databricks.v1+cell": {
     "cellMetadata": {
      "byteLimit": 2048000,
      "rowLimit": 10000
     },
     "inputWidgets": {},
     "nuid": "0754c839-39f0-4853-a02e-95ea8d0a6bd6",
     "showTitle": false,
     "title": ""
    }
   },
   "outputs": [
    {
     "output_type": "stream",
     "name": "stdout",
     "output_type": "stream",
     "text": [
      "+----+----------------+------+----------------+-----------+----------+-----+\n|  id|        datetime|amount|       card_type|merchant_id|      date| time|\n+----+----------------+------+----------------+-----------+----------+-----+\n|1630|09-07-1989 08:04|   1.0|      MasterCard|   MID59578|1989-09-07|08:04|\n|1630|            null| 16.29|      MasterCard|   MID59578|      null| null|\n|1630|09-07-1989 08:04| 16.29|      MasterCard|   MID59578|1989-09-07|08:04|\n|1630|            null| 16.29|      MasterCard|   MID59578|      null| null|\n|1630|09-07-1989 08:04| 16.29|      MasterCard|   MID59578|1989-09-07|08:04|\n|1638|16-04-1979 00:41|117.58|      MasterCard|   MID31981|      null|00:41|\n|1639|30-09-2000 20:41|873.13|American Express|   MID18885|      null|20:41|\n|1641|29-11-1975 01:12|851.32|American Express|   MID16625|      null|01:12|\n|1642|12-11-2012 03:14|458.94|      MasterCard|   MID64824|2012-12-11|03:14|\n|1643|24-02-1999 03:03|443.87|American Express|   MID10496|      null|03:03|\n|1644|20-01-1995 05:17|907.26|            Visa|   MID47464|      null|05:17|\n|1645|22-08-1987 19:59| 648.3|            Visa|   MID60019|      null|19:59|\n|1646|25-07-1985 20:53|440.18|      MasterCard|   MID53261|      null|20:53|\n|1647|18-11-2005 12:09|641.65|American Express|   MID35524|      null|12:09|\n|1648|29-11-2017 03:15|323.84|American Express|   MID45125|      null|03:15|\n|1649|15-10-1999 00:11|665.52|American Express|   MID88284|      null|00:11|\n|1650|07-03-2006 13:57|365.99|            Visa|   MID55058|2006-07-03|13:57|\n|1651|10-10-2013 05:59|680.33|      MasterCard|   MID51372|2013-10-10|05:59|\n|1652|21-10-1983 09:13|535.67|            Visa|   MID47553|      null|09:13|\n|1653|21-07-1976 23:47|801.55|            Visa|   MID17598|      null|23:47|\n+----+----------------+------+----------------+-----------+----------+-----+\nonly showing top 20 rows\n\n"
     ]
    }
   ],
   "source": [
    "# Split 'datetime' column into 'date' and 'time' columns\n",
    "split_col = split(transaction_large_df_no_outliers['datetime'], ' ')\n",
    "df = transaction_large_df_no_outliers.withColumn('date', to_date(split_col.getItem(0), 'MM-dd-yyyy'))\n",
    "df2 = df.withColumn('time', split_col.getItem(1))\n",
    "\n",
    "# Show the DataFrame\n",
    "df2.show()"
   ]
  },
  {
   "cell_type": "code",
   "execution_count": 0,
   "metadata": {
    "application/vnd.databricks.v1+cell": {
     "cellMetadata": {
      "byteLimit": 2048000,
      "rowLimit": 10000
     },
     "inputWidgets": {},
     "nuid": "88207f66-b9e1-4dfd-8b18-0ddaf4049c9a",
     "showTitle": false,
     "title": ""
    }
   },
   "outputs": [],
   "source": [
    "from pyspark.sql.functions import lit\n",
    "\n",
    "df = df2.na.fill({\"date\": \"1989-09-07\", \"time\": \"08:04\"})"
   ]
  },
  {
   "cell_type": "code",
   "execution_count": 0,
   "metadata": {
    "application/vnd.databricks.v1+cell": {
     "cellMetadata": {
      "byteLimit": 2048000,
      "rowLimit": 10000
     },
     "inputWidgets": {},
     "nuid": "5224d0fd-0e32-4a79-b4db-efffcb129650",
     "showTitle": false,
     "title": ""
    }
   },
   "outputs": [],
   "source": [
    "sorted_df = df.orderBy(\"date\")"
   ]
  },
  {
   "cell_type": "code",
   "execution_count": 0,
   "metadata": {
    "application/vnd.databricks.v1+cell": {
     "cellMetadata": {
      "byteLimit": 2048000,
      "rowLimit": 10000
     },
     "inputWidgets": {},
     "nuid": "7e669060-15c4-4ec8-881b-5868527c8900",
     "showTitle": false,
     "title": ""
    }
   },
   "outputs": [
    {
     "output_type": "stream",
     "name": "stdout",
     "output_type": "stream",
     "text": [
      "+-------+----------------+------+----------------+-----------+----------+-----+\n|     id|        datetime|amount|       card_type|merchant_id|      date| time|\n+-------+----------------+------+----------------+-----------+----------+-----+\n|1025117|01-01-1970 21:51| 721.7|American Express|   MID93640|1970-01-01|21:51|\n| 332503|01-01-1970 12:00|731.96|American Express|   MID53189|1970-01-01|12:00|\n| 718206|01-01-1970 21:59| 983.6|American Express|   MID76491|1970-01-01|21:59|\n| 317444|01-01-1970 04:23|663.46|            Visa|   MID82091|1970-01-01|04:23|\n| 174624|01-01-1970 08:46|390.48|American Express|   MID39400|1970-01-01|08:46|\n| 327127|01-01-1970 20:05|702.96|American Express|   MID91000|1970-01-01|20:05|\n| 713248|01-01-1970 10:20|155.37|American Express|   MID61494|1970-01-01|10:20|\n| 356068|01-01-1970 17:52|189.89|      MasterCard|   MID88173|1970-01-01|17:52|\n| 437611|01-01-1970 06:08|782.75|            Visa|   MID96696|1970-01-01|06:08|\n| 364062|01-01-1970 12:56|588.85|            Visa|   MID34947|1970-01-01|12:56|\n| 735805|01-01-1970 18:47|613.05|American Express|   MID73866|1970-01-01|18:47|\n| 378341|01-01-1970 07:56| 26.98|            Visa|   MID54793|1970-01-01|07:56|\n| 165772|01-01-1970 15:45|149.39|American Express|   MID40613|1970-01-01|15:45|\n| 381978|01-01-1970 15:42|137.29|American Express|   MID35575|1970-01-01|15:42|\n| 740372|01-01-1970 09:01|595.41|            Visa|   MID23025|1970-01-01|09:01|\n| 400555|01-01-1970 21:20| 480.0|American Express|   MID88391|1970-01-01|21:20|\n|  22259|01-01-1970 22:55|666.73|American Express|   MID17809|1970-01-01|22:55|\n| 402161|01-01-1970 01:29|830.21|      MasterCard|   MID25612|1970-01-01|01:29|\n| 744371|01-01-1970 02:40|537.53|            Visa|   MID81278|1970-01-01|02:40|\n| 169017|01-01-1970 08:32|577.04|      MasterCard|   MID63548|1970-01-01|08:32|\n+-------+----------------+------+----------------+-----------+----------+-----+\nonly showing top 20 rows\n\n"
     ]
    }
   ],
   "source": [
    "sorted_df.show()"
   ]
  },
  {
   "cell_type": "code",
   "execution_count": 0,
   "metadata": {
    "application/vnd.databricks.v1+cell": {
     "cellMetadata": {
      "byteLimit": 2048000,
      "rowLimit": 10000
     },
     "inputWidgets": {},
     "nuid": "26643fc0-f63e-4ac7-a8a7-39d2b07675cc",
     "showTitle": false,
     "title": ""
    }
   },
   "outputs": [],
   "source": [
    "from math import isnan"
   ]
  },
  {
   "cell_type": "code",
   "execution_count": 0,
   "metadata": {
    "application/vnd.databricks.v1+cell": {
     "cellMetadata": {
      "byteLimit": 2048000,
      "rowLimit": 10000
     },
     "inputWidgets": {},
     "nuid": "9931962c-0779-4dc5-9228-94e213c5876c",
     "showTitle": false,
     "title": ""
    }
   },
   "outputs": [
    {
     "output_type": "stream",
     "name": "stdout",
     "output_type": "stream",
     "text": [
      "Number of non-numeric values: 0\nNumber of negative numbers: 0\n"
     ]
    }
   ],
   "source": [
    "# Check for non-numeric values (nulls in this case, after casting)\n",
    "non_numeric = sorted_df.filter(col(\"amount\").isNull()).count()\n",
    "print(f\"Number of non-numeric values: {non_numeric}\")\n",
    "\n",
    "# Check for negative numbers\n",
    "negative_numbers = sorted_df.filter(col(\"amount\") < 0).count()\n",
    "print(f\"Number of negative numbers: {negative_numbers}\")"
   ]
  },
  {
   "cell_type": "code",
   "execution_count": 0,
   "metadata": {
    "application/vnd.databricks.v1+cell": {
     "cellMetadata": {
      "byteLimit": 2048000,
      "rowLimit": 10000
     },
     "inputWidgets": {},
     "nuid": "d9f67346-a83d-4f1a-8754-0167e9383fd8",
     "showTitle": false,
     "title": ""
    }
   },
   "outputs": [
    {
     "output_type": "stream",
     "name": "stdout",
     "output_type": "stream",
     "text": [
      "root\n |-- id: integer (nullable = true)\n |-- datetime: string (nullable = true)\n |-- amount: float (nullable = true)\n |-- card_type: string (nullable = true)\n |-- merchant_id: string (nullable = true)\n |-- date: date (nullable = true)\n |-- time: string (nullable = false)\n\n"
     ]
    }
   ],
   "source": [
    "sorted_df.printSchema()"
   ]
  },
  {
   "cell_type": "code",
   "execution_count": 0,
   "metadata": {
    "application/vnd.databricks.v1+cell": {
     "cellMetadata": {
      "byteLimit": 2048000,
      "rowLimit": 10000
     },
     "inputWidgets": {},
     "nuid": "2f2a4163-9551-4ba7-99e9-db98586bec9a",
     "showTitle": false,
     "title": ""
    }
   },
   "outputs": [],
   "source": [
    "from pyspark.sql.functions import when, col"
   ]
  },
  {
   "cell_type": "code",
   "execution_count": 0,
   "metadata": {
    "application/vnd.databricks.v1+cell": {
     "cellMetadata": {
      "byteLimit": 2048000,
      "rowLimit": 10000
     },
     "inputWidgets": {},
     "nuid": "d3c06274-e6eb-4ede-88ea-b7eb8e4115d1",
     "showTitle": false,
     "title": ""
    }
   },
   "outputs": [
    {
     "output_type": "stream",
     "name": "stdout",
     "output_type": "stream",
     "text": [
      "+-------+----------------+------+----------------+-----------+----------+-----+----------------+\n|     id|        datetime|amount|       card_type|merchant_id|      date| time|missing_datetime|\n+-------+----------------+------+----------------+-----------+----------+-----+----------------+\n|1025117|01-01-1970 21:51| 721.7|American Express|   MID93640|1970-01-01|21:51|               0|\n| 587238|01-01-1970 08:48|242.99|            Visa|   MID90788|1970-01-01|08:48|               0|\n| 332503|01-01-1970 12:00|731.96|American Express|   MID53189|1970-01-01|12:00|               0|\n| 634163|01-01-1970 11:21|778.43|American Express|   MID41036|1970-01-01|11:21|               0|\n| 864684|01-01-1970 16:20|609.33|            Visa|   MID16224|1970-01-01|16:20|               0|\n| 604612|01-01-1970 19:26|802.65|      MasterCard|   MID14094|1970-01-01|19:26|               0|\n| 317444|01-01-1970 04:23|663.46|            Visa|   MID82091|1970-01-01|04:23|               0|\n| 642032|01-01-1970 09:40|484.41|American Express|   MID38771|1970-01-01|09:40|               0|\n| 718206|01-01-1970 21:59| 983.6|American Express|   MID76491|1970-01-01|21:59|               0|\n| 691643|01-01-1970 23:50| 509.6|American Express|   MID77998|1970-01-01|23:50|               0|\n| 327127|01-01-1970 20:05|702.96|American Express|   MID91000|1970-01-01|20:05|               0|\n| 885251|01-01-1970 13:39| 85.47|            Visa|   MID14320|1970-01-01|13:39|               0|\n| 356068|01-01-1970 17:52|189.89|      MasterCard|   MID88173|1970-01-01|17:52|               0|\n| 437611|01-01-1970 06:08|782.75|            Visa|   MID96696|1970-01-01|06:08|               0|\n| 364062|01-01-1970 12:56|588.85|            Visa|   MID34947|1970-01-01|12:56|               0|\n| 891529|01-01-1970 19:49|755.07|            Visa|   MID90902|1970-01-01|19:49|               0|\n| 378341|01-01-1970 07:56| 26.98|            Visa|   MID54793|1970-01-01|07:56|               0|\n| 713248|01-01-1970 10:20|155.37|American Express|   MID61494|1970-01-01|10:20|               0|\n| 381978|01-01-1970 15:42|137.29|American Express|   MID35575|1970-01-01|15:42|               0|\n| 908037|01-01-1970 01:36| 753.5|American Express|   MID49467|1970-01-01|01:36|               0|\n+-------+----------------+------+----------------+-----------+----------+-----+----------------+\nonly showing top 20 rows\n\n"
     ]
    }
   ],
   "source": [
    "# Flag records with missing 'datetime' field\n",
    "df3 = sorted_df.withColumn(\"missing_datetime\", when(col(\"datetime\").isNull(), 1).otherwise(0))\n",
    "\n",
    "# Show the DataFrame\n",
    "df3.show()"
   ]
  },
  {
   "cell_type": "code",
   "execution_count": 0,
   "metadata": {
    "application/vnd.databricks.v1+cell": {
     "cellMetadata": {
      "byteLimit": 2048000,
      "rowLimit": 10000
     },
     "inputWidgets": {},
     "nuid": "9a4d9944-8716-4404-83c8-06bbe20ca925",
     "showTitle": false,
     "title": ""
    }
   },
   "outputs": [
    {
     "output_type": "stream",
     "name": "stdout",
     "output_type": "stream",
     "text": [
      "+----+--------+------+----------+-----------+----------+-----+----------------+\n|  id|datetime|amount| card_type|merchant_id|      date| time|missing_datetime|\n+----+--------+------+----------+-----------+----------+-----+----------------+\n|1630|    null| 16.29|MasterCard|   MID59578|1989-09-07|08:04|               1|\n|1630|    null| 16.29|MasterCard|   MID59578|1989-09-07|08:04|               1|\n+----+--------+------+----------+-----------+----------+-----+----------------+\n\n"
     ]
    }
   ],
   "source": [
    "df3.filter(col(\"missing_datetime\")==1).show()"
   ]
  },
  {
   "cell_type": "code",
   "execution_count": 0,
   "metadata": {
    "application/vnd.databricks.v1+cell": {
     "cellMetadata": {
      "byteLimit": 2048000,
      "rowLimit": 10000
     },
     "inputWidgets": {},
     "nuid": "4d603e95-e430-4548-b2b5-322560f2ea84",
     "showTitle": false,
     "title": ""
    }
   },
   "outputs": [
    {
     "output_type": "stream",
     "name": "stdout",
     "output_type": "stream",
     "text": [
      "Out[37]: 1048571"
     ]
    }
   ],
   "source": [
    "df3.count()"
   ]
  },
  {
   "cell_type": "code",
   "execution_count": 0,
   "metadata": {
    "application/vnd.databricks.v1+cell": {
     "cellMetadata": {
      "byteLimit": 2048000,
      "rowLimit": 10000
     },
     "inputWidgets": {},
     "nuid": "ef4885fd-e7b5-4565-aff2-30c76d815ff8",
     "showTitle": false,
     "title": ""
    }
   },
   "outputs": [],
   "source": [
    "from pyspark.sql import functions as F\n",
    "\n",
    "#  Df is the DataFrame and \"datetime\" is our column of interest\n",
    "df4 = df3.filter(F.col(\"datetime\").isNotNull()).dropDuplicates()\n"
   ]
  },
  {
   "cell_type": "code",
   "execution_count": 0,
   "metadata": {
    "application/vnd.databricks.v1+cell": {
     "cellMetadata": {
      "byteLimit": 2048000,
      "rowLimit": 10000
     },
     "inputWidgets": {},
     "nuid": "3d891f37-fb2a-403e-9096-2e5cb350fd29",
     "showTitle": false,
     "title": ""
    }
   },
   "outputs": [
    {
     "output_type": "stream",
     "name": "stdout",
     "output_type": "stream",
     "text": [
      "Out[39]: 1048568"
     ]
    }
   ],
   "source": [
    "df4.count()"
   ]
  },
  {
   "cell_type": "code",
   "execution_count": 0,
   "metadata": {
    "application/vnd.databricks.v1+cell": {
     "cellMetadata": {
      "byteLimit": 2048000,
      "rowLimit": 10000
     },
     "inputWidgets": {},
     "nuid": "36fafaa7-c5dd-4516-9219-adac60114cf8",
     "showTitle": false,
     "title": ""
    }
   },
   "outputs": [
    {
     "output_type": "stream",
     "name": "stdout",
     "output_type": "stream",
     "text": [
      "Number of missing values in 'amount': 0\n"
     ]
    }
   ],
   "source": [
    "from pyspark.sql import functions as F\n",
    "\n",
    "# Df is the DataFrame and \"amount\" is our column of interest\n",
    "missing_amounts = df4.filter(F.col(\"amount\").isNull()).count()\n",
    "\n",
    "print(f\"Number of missing values in 'amount': {missing_amounts}\")\n"
   ]
  },
  {
   "cell_type": "code",
   "execution_count": 0,
   "metadata": {
    "application/vnd.databricks.v1+cell": {
     "cellMetadata": {
      "byteLimit": 2048000,
      "rowLimit": 10000
     },
     "inputWidgets": {},
     "nuid": "c9a89c45-2817-4b28-9bba-0726fdc7b267",
     "showTitle": false,
     "title": ""
    }
   },
   "outputs": [],
   "source": [
    "df4.write.format(\"csv\").option(\"header\",\"true\").save(\"/FileStore/data/cleaned/transaction_cleaned_data.csv\")\n"
   ]
  },
  {
   "cell_type": "code",
   "execution_count": 0,
   "metadata": {
    "application/vnd.databricks.v1+cell": {
     "cellMetadata": {},
     "inputWidgets": {},
     "nuid": "0fadc600-2bfb-4dcc-b6a8-7b1a7b2bfb82",
     "showTitle": false,
     "title": ""
    }
   },
   "outputs": [],
   "source": []
  }
 ],
 "metadata": {
  "application/vnd.databricks.v1+notebook": {
   "dashboards": [],
   "language": "python",
   "notebookMetadata": {
    "mostRecentlyExecutedCommandWithImplicitDF": {
     "commandId": 2069260047773631,
     "dataframes": [
      "_sqldf"
     ]
    },
    "pythonIndentUnit": 4
   },
   "notebookName": "Data_Cleaning_transaction",
   "widgets": {}
  }
 },
 "nbformat": 4,
 "nbformat_minor": 0
}
