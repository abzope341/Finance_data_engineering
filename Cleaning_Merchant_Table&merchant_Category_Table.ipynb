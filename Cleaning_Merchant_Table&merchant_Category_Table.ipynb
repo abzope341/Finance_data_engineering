{
 "cells": [
  {
   "cell_type": "code",
   "execution_count": 0,
   "metadata": {
    "application/vnd.databricks.v1+cell": {
     "cellMetadata": {
      "byteLimit": 2048000,
      "rowLimit": 10000
     },
     "inputWidgets": {},
     "nuid": "fc0db3cb-93d1-4fab-a11d-d6343933e0c4",
     "showTitle": false,
     "title": ""
    }
   },
   "outputs": [
    {
     "output_type": "display_data",
     "data": {
      "text/html": [
       "<style scoped>\n",
       "  .table-result-container {\n",
       "    max-height: 300px;\n",
       "    overflow: auto;\n",
       "  }\n",
       "  table, th, td {\n",
       "    border: 1px solid black;\n",
       "    border-collapse: collapse;\n",
       "  }\n",
       "  th, td {\n",
       "    padding: 5px;\n",
       "  }\n",
       "  th {\n",
       "    text-align: left;\n",
       "  }\n",
       "</style><div class='table-result-container'><table class='table-result'><thead style='background-color: white'><tr><th>path</th><th>name</th><th>size</th><th>modificationTime</th></tr></thead><tbody><tr><td>dbfs:/FileStore/merchant_category_large-1.csv</td><td>merchant_category_large-1.csv</td><td>117</td><td>1695567142000</td></tr></tbody></table></div>"
      ]
     },
     "metadata": {
      "application/vnd.databricks.v1+output": {
       "addedWidgets": {},
       "aggData": [],
       "aggError": "",
       "aggOverflow": false,
       "aggSchema": [],
       "aggSeriesLimitReached": false,
       "aggType": "",
       "arguments": {},
       "columnCustomDisplayInfos": {},
       "data": [
        [
         "dbfs:/FileStore/merchant_category_large-1.csv",
         "merchant_category_large-1.csv",
         117,
         1695567142000
        ]
       ],
       "datasetInfos": [],
       "dbfsResultPath": null,
       "isJsonSchema": true,
       "metadata": {
        "isDbfsCommandResult": false
       },
       "overflow": false,
       "plotOptions": {
        "customPlotOptions": {},
        "displayType": "table",
        "pivotAggregation": null,
        "pivotColumns": null,
        "xColumns": null,
        "yColumns": null
       },
       "removedWidgets": [],
       "schema": [
        {
         "metadata": "{}",
         "name": "path",
         "type": "\"string\""
        },
        {
         "metadata": "{}",
         "name": "name",
         "type": "\"string\""
        },
        {
         "metadata": "{}",
         "name": "size",
         "type": "\"long\""
        },
        {
         "metadata": "{}",
         "name": "modificationTime",
         "type": "\"long\""
        }
       ],
       "type": "table"
      }
     },
     "output_type": "display_data"
    }
   ],
   "source": [
    "%fs\n",
    "ls /FileStore/merchant_category_large-1.csv\n"
   ]
  },
  {
   "cell_type": "code",
   "execution_count": 0,
   "metadata": {
    "application/vnd.databricks.v1+cell": {
     "cellMetadata": {
      "byteLimit": 2048000,
      "rowLimit": 10000
     },
     "inputWidgets": {},
     "nuid": "d0e8453b-6e70-4a70-882a-a48d8cdfd083",
     "showTitle": false,
     "title": ""
    }
   },
   "outputs": [
    {
     "output_type": "display_data",
     "data": {
      "text/html": [
       "<style scoped>\n",
       "  .table-result-container {\n",
       "    max-height: 300px;\n",
       "    overflow: auto;\n",
       "  }\n",
       "  table, th, td {\n",
       "    border: 1px solid black;\n",
       "    border-collapse: collapse;\n",
       "  }\n",
       "  th, td {\n",
       "    padding: 5px;\n",
       "  }\n",
       "  th {\n",
       "    text-align: left;\n",
       "  }\n",
       "</style><div class='table-result-container'><table class='table-result'><thead style='background-color: white'><tr><th>path</th><th>name</th><th>size</th><th>modificationTime</th></tr></thead><tbody><tr><td>dbfs:/FileStore/merchant_large-1.csv</td><td>merchant_large-1.csv</td><td>23644832</td><td>1695567335000</td></tr></tbody></table></div>"
      ]
     },
     "metadata": {
      "application/vnd.databricks.v1+output": {
       "addedWidgets": {},
       "aggData": [],
       "aggError": "",
       "aggOverflow": false,
       "aggSchema": [],
       "aggSeriesLimitReached": false,
       "aggType": "",
       "arguments": {},
       "columnCustomDisplayInfos": {},
       "data": [
        [
         "dbfs:/FileStore/merchant_large-1.csv",
         "merchant_large-1.csv",
         23644832,
         1695567335000
        ]
       ],
       "datasetInfos": [],
       "dbfsResultPath": null,
       "isJsonSchema": true,
       "metadata": {
        "isDbfsCommandResult": false
       },
       "overflow": false,
       "plotOptions": {
        "customPlotOptions": {},
        "displayType": "table",
        "pivotAggregation": null,
        "pivotColumns": null,
        "xColumns": null,
        "yColumns": null
       },
       "removedWidgets": [],
       "schema": [
        {
         "metadata": "{}",
         "name": "path",
         "type": "\"string\""
        },
        {
         "metadata": "{}",
         "name": "name",
         "type": "\"string\""
        },
        {
         "metadata": "{}",
         "name": "size",
         "type": "\"long\""
        },
        {
         "metadata": "{}",
         "name": "modificationTime",
         "type": "\"long\""
        }
       ],
       "type": "table"
      }
     },
     "output_type": "display_data"
    }
   ],
   "source": [
    "%fs\n",
    "ls /FileStore/merchant_large-1.csv\n"
   ]
  },
  {
   "cell_type": "code",
   "execution_count": 0,
   "metadata": {
    "application/vnd.databricks.v1+cell": {
     "cellMetadata": {
      "byteLimit": 2048000,
      "rowLimit": 10000
     },
     "inputWidgets": {},
     "nuid": "d9609610-fd39-4a08-982d-11ca19616682",
     "showTitle": false,
     "title": ""
    }
   },
   "outputs": [
    {
     "output_type": "display_data",
     "data": {
      "text/html": [
       "<style scoped>\n",
       "  .table-result-container {\n",
       "    max-height: 300px;\n",
       "    overflow: auto;\n",
       "  }\n",
       "  table, th, td {\n",
       "    border: 1px solid black;\n",
       "    border-collapse: collapse;\n",
       "  }\n",
       "  th, td {\n",
       "    padding: 5px;\n",
       "  }\n",
       "  th {\n",
       "    text-align: left;\n",
       "  }\n",
       "</style><div class='table-result-container'><table class='table-result'><thead style='background-color: white'><tr><th>path</th><th>name</th><th>size</th><th>modificationTime</th></tr></thead><tbody><tr><td>dbfs:/FileStore/transaction_large-1.csv</td><td>transaction_large-1.csv</td><td>54228538</td><td>1695534819000</td></tr></tbody></table></div>"
      ]
     },
     "metadata": {
      "application/vnd.databricks.v1+output": {
       "addedWidgets": {},
       "aggData": [],
       "aggError": "",
       "aggOverflow": false,
       "aggSchema": [],
       "aggSeriesLimitReached": false,
       "aggType": "",
       "arguments": {},
       "columnCustomDisplayInfos": {},
       "data": [
        [
         "dbfs:/FileStore/transaction_large-1.csv",
         "transaction_large-1.csv",
         54228538,
         1695534819000
        ]
       ],
       "datasetInfos": [],
       "dbfsResultPath": null,
       "isJsonSchema": true,
       "metadata": {
        "isDbfsCommandResult": false
       },
       "overflow": false,
       "plotOptions": {
        "customPlotOptions": {},
        "displayType": "table",
        "pivotAggregation": null,
        "pivotColumns": null,
        "xColumns": null,
        "yColumns": null
       },
       "removedWidgets": [],
       "schema": [
        {
         "metadata": "{}",
         "name": "path",
         "type": "\"string\""
        },
        {
         "metadata": "{}",
         "name": "name",
         "type": "\"string\""
        },
        {
         "metadata": "{}",
         "name": "size",
         "type": "\"long\""
        },
        {
         "metadata": "{}",
         "name": "modificationTime",
         "type": "\"long\""
        }
       ],
       "type": "table"
      }
     },
     "output_type": "display_data"
    }
   ],
   "source": [
    "%fs\n",
    "ls /FileStore/transaction_large-1.csv\n"
   ]
  },
  {
   "cell_type": "code",
   "execution_count": 0,
   "metadata": {
    "application/vnd.databricks.v1+cell": {
     "cellMetadata": {
      "byteLimit": 2048000,
      "rowLimit": 10000
     },
     "inputWidgets": {},
     "nuid": "8f86dc46-fcc8-4562-a8ad-f65fe4e86603",
     "showTitle": false,
     "title": ""
    }
   },
   "outputs": [],
   "source": [
    "merchant_category_large_cleaning_df = spark.read.format('csv').option(\"header\",\"True\").option(\"inferschema\",\"true\").load(\"dbfs:/FileStore/merchant_category_large-1.csv\")\n",
    "merchant_large_cleaning_df = spark.read.format('csv').option(\"header\",\"True\").option(\"inferschema\",\"true\").load(\"dbfs:/FileStore/merchant_large-1.csv\")\n",
    "transaction_large_cleaning_df = spark.read.format('csv').option(\"header\",\"True\").option(\"inferschema\",\"true\").load(\"dbfs:/FileStore/transaction_large-1.csv\")"
   ]
  },
  {
   "cell_type": "code",
   "execution_count": 0,
   "metadata": {
    "application/vnd.databricks.v1+cell": {
     "cellMetadata": {
      "byteLimit": 2048000,
      "rowLimit": 10000
     },
     "inputWidgets": {},
     "nuid": "eaa193d9-f0a0-40eb-8419-041727cb81f6",
     "showTitle": false,
     "title": ""
    }
   },
   "outputs": [
    {
     "output_type": "stream",
     "name": "stdout",
     "output_type": "stream",
     "text": [
      "The 'id_merchant_category' is consistent between the two tables.\n"
     ]
    }
   ],
   "source": [
    "\n",
    "#Data consistency between tables\n",
    "# Perform an inner join on the two dataframes\n",
    "\n",
    "df_transactions = transaction_large_cleaning_df.withColumnRenamed('merchant_id', 'id_merchant_category')\n",
    "\n",
    "df_merchant = merchant_large_cleaning_df.withColumnRenamed('id', 'id_merchant_category')\n",
    "\n",
    "df_joined = df_merchant.join(df_transactions, on=['id_merchant_category'], how='inner')\n",
    "\n",
    "# If there are any inconsistencies, the joined dataframe will have less rows than the original dataframes\n",
    "if df_joined.count() < df_merchant.count() or df_joined.count() < df_transactions.count():\n",
    "    print(\"There are inconsistencies in the 'id_merchant_category' between the two tables.\")\n",
    "else:\n",
    "    print(\"The 'id_merchant_category' is consistent between the two tables.\")\n"
   ]
  },
  {
   "cell_type": "code",
   "execution_count": 0,
   "metadata": {
    "application/vnd.databricks.v1+cell": {
     "cellMetadata": {
      "byteLimit": 2048000,
      "rowLimit": 10000
     },
     "inputWidgets": {},
     "nuid": "d976d170-d343-4d5d-bb7f-3ecab6af8330",
     "showTitle": false,
     "title": ""
    }
   },
   "outputs": [
    {
     "output_type": "stream",
     "name": "stdout",
     "output_type": "stream",
     "text": [
      "+--------------------+---------------+-----------------+\n|id_merchant_category|           name|merchant_category|\n+--------------------+---------------+-----------------+\n|            MID80028|Kathryn Frazier|                5|\n|            MID33354|Cameron Stevens|                1|\n|            MID53976|  Amy Henderson|                1|\n|            MID47112|     Wendy Leon|                5|\n|            MID75112|Robert Mcdaniel|                5|\n|            MID58145|           null|                1|\n|            MID96735|Catherine Smith|                1|\n|            MID23566|   Teresa Wolfe|                5|\n|            MID50690|      Alan Wood|                1|\n|            MID89747|   Megan Pierce|                5|\n|            MID44098|  Julian Carney|                1|\n|            MID21112|James Rasmussen|                1|\n|            MID99662|Loretta Barrera|                1|\n|            MID49518| Angela Bennett|                5|\n|            MID74116|  Stanley Henry|                1|\n|            MID64188|   Peter Arnold|                5|\n|            MID11197| Kevin Martinez|                1|\n|            MID74710|  Allison Smith|                1|\n|            MID59519|Melissa Barnett|                1|\n|            MID40614|   Nicole Young|                1|\n+--------------------+---------------+-----------------+\nonly showing top 20 rows\n\n"
     ]
    }
   ],
   "source": [
    "from pyspark.sql.functions import initcap\n",
    "\n",
    "# Df is the DataFrame and \"name\" is the column with the names\n",
    "df = df_merchant.withColumn(\"name\", initcap(df_merchant[\"name\"]))\n",
    "\n",
    "# Show the DataFrame to verify the changes\n",
    "df.show()\n"
   ]
  },
  {
   "cell_type": "code",
   "execution_count": 0,
   "metadata": {
    "application/vnd.databricks.v1+cell": {
     "cellMetadata": {
      "byteLimit": 2048000,
      "rowLimit": 10000
     },
     "inputWidgets": {},
     "nuid": "a8e053d8-77a1-41b8-9e8f-e397658ff242",
     "showTitle": false,
     "title": ""
    }
   },
   "outputs": [
    {
     "output_type": "stream",
     "name": "stdout",
     "output_type": "stream",
     "text": [
      "+-----------+------------------+-----------------+\n|merchant_id|              name|merchant_category|\n+-----------+------------------+-----------------+\n|   MID30110|    Brittany Jones|                5|\n|   MID30110|     Dennis Parker|                1|\n|   MID30110|   Kimberly Dawson|                5|\n|   MID30110|         Tami Ross|                5|\n|   MID30110|     Joseph Orozco|                1|\n|   MID30110|    John Stevenson|                1|\n|   MID30110|       Mario Mccoy|                1|\n|   MID30110|  Michael Gonzalez|                1|\n|   MID30110|Elizabeth Sullivan|                1|\n|   MID00001|      Issac newton|                8|\n+-----------+------------------+-----------------+\n\n"
     ]
    }
   ],
   "source": [
    "from pyspark.sql.functions import col\n",
    "\n",
    "\n",
    "# Get the distinct merchant IDs from the transactions DataFrame\n",
    "transaction_merchants = transaction_large_cleaning_df.select(\"merchant_id\").distinct()\n",
    "\n",
    "# Perform a left anti join on the merchant DataFrame with the transaction merchants\n",
    "# This will give us all rows in the merchant DataFrame that do not have a matching merchant ID in the transactions DataFrame\n",
    "df_merchant = merchant_large_cleaning_df.withColumnRenamed('id', 'merchant_id')\n",
    "merchants_without_transactions = df_merchant.join(transaction_merchants, on=\"merchant_id\", how=\"left_anti\")\n",
    "\n",
    "# Show the merchants without transactions\n",
    "merchants_without_transactions.show()\n"
   ]
  },
  {
   "cell_type": "code",
   "execution_count": 0,
   "metadata": {
    "application/vnd.databricks.v1+cell": {
     "cellMetadata": {
      "byteLimit": 2048000,
      "rowLimit": 10000
     },
     "inputWidgets": {},
     "nuid": "6cc0d2a9-e68d-498a-8af4-ee429bf38e94",
     "showTitle": false,
     "title": ""
    }
   },
   "outputs": [
    {
     "output_type": "stream",
     "name": "stdout",
     "output_type": "stream",
     "text": [
      "+--------+------------+-----------------+\n|      id|        name|merchant_category|\n+--------+------------+-----------------+\n|MID84829| Kevin Lewis|             null|\n|MID72394|Linda Warner|             null|\n+--------+------------+-----------------+\n\n+--------+----+-----------------+\n|      id|name|merchant_category|\n+--------+----+-----------------+\n|MID58145|null|                1|\n|MID92601|null|                5|\n+--------+----+-----------------+\n\n"
     ]
    }
   ],
   "source": [
    "from pyspark.sql.functions import isnan, when, count, col\n",
    "\n",
    "# Df is the DataFrame, \"merchant_category\" is the merchant category column, and \"name\" is the name column\n",
    "\n",
    "# Find the records where 'merchant_category' or 'name' is missing\n",
    "missing_merchant_category = merchant_large_cleaning_df.filter((merchant_large_cleaning_df[\"merchant_category\"] == \"\") | merchant_large_cleaning_df[\"merchant_category\"].isNull() | isnan(merchant_large_cleaning_df[\"merchant_category\"]))\n",
    "\n",
    "missing_name = merchant_large_cleaning_df.filter((merchant_large_cleaning_df[\"name\"] == \"\") | merchant_large_cleaning_df[\"name\"].isNull() | isnan(merchant_large_cleaning_df[\"name\"]))\n",
    "\n",
    "# Show the records with missing 'merchant_category' or 'name'\n",
    "missing_merchant_category.show()\n",
    "missing_name.show()\n"
   ]
  },
  {
   "cell_type": "code",
   "execution_count": 0,
   "metadata": {
    "application/vnd.databricks.v1+cell": {
     "cellMetadata": {
      "byteLimit": 2048000,
      "rowLimit": 10000
     },
     "inputWidgets": {},
     "nuid": "5c0d4636-48cf-4167-bfb0-beebdc28d74f",
     "showTitle": false,
     "title": ""
    }
   },
   "outputs": [
    {
     "output_type": "stream",
     "name": "stdout",
     "output_type": "stream",
     "text": [
      "Number of records with missing merchant category:  2\nNumber of records with missing name:  2\n"
     ]
    }
   ],
   "source": [
    "# Count the records with missing 'merchant_category' or 'name'\n",
    "print(\"Number of records with missing merchant category: \", missing_merchant_category.count())\n",
    "print(\"Number of records with missing name: \", missing_name.count())"
   ]
  },
  {
   "cell_type": "code",
   "execution_count": 0,
   "metadata": {
    "application/vnd.databricks.v1+cell": {
     "cellMetadata": {},
     "inputWidgets": {},
     "nuid": "e9000e5f-098e-4118-b760-4497bac6c863",
     "showTitle": false,
     "title": ""
    }
   },
   "outputs": [],
   "source": []
  }
 ],
 "metadata": {
  "application/vnd.databricks.v1+notebook": {
   "dashboards": [],
   "language": "python",
   "notebookMetadata": {
    "mostRecentlyExecutedCommandWithImplicitDF": {
     "commandId": 1935060682647646,
     "dataframes": [
      "_sqldf"
     ]
    },
    "pythonIndentUnit": 4
   },
   "notebookName": "Cleaning_Merchant_Table&merchant_Category_Table",
   "widgets": {}
  }
 },
 "nbformat": 4,
 "nbformat_minor": 0
}
